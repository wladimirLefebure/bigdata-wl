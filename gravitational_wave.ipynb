{
  "nbformat": 4,
  "nbformat_minor": 0,
  "metadata": {
    "colab": {
      "name": "gravitational wave.ipynb",
      "provenance": [],
      "collapsed_sections": [],
      "include_colab_link": true
    },
    "kernelspec": {
      "name": "python3",
      "display_name": "Python 3"
    }
  },
  "cells": [
    {
      "cell_type": "markdown",
      "metadata": {
        "id": "view-in-github",
        "colab_type": "text"
      },
      "source": [
        "<a href=\"https://colab.research.google.com/github/wladimirLefebure/bigdata-wl/blob/master/gravitational_wave.ipynb\" target=\"_parent\"><img src=\"https://colab.research.google.com/assets/colab-badge.svg\" alt=\"Open In Colab\"/></a>"
      ]
    },
    {
      "cell_type": "code",
      "metadata": {
        "id": "-SepJX1_fcmJ",
        "colab_type": "code",
        "colab": {}
      },
      "source": [
        ""
      ],
      "execution_count": 0,
      "outputs": []
    },
    {
      "cell_type": "markdown",
      "metadata": {
        "id": "-BeFYHhcfilN",
        "colab_type": "text"
      },
      "source": [
        "# Assignment for Week 3\n",
        "# **PRA3024: Analysis of Big Data in Physics.**"
      ]
    },
    {
      "cell_type": "markdown",
      "metadata": {
        "id": "tW08LUE6fmVQ",
        "colab_type": "text"
      },
      "source": [
        "The Fisher Matrix formalism: Plug and Play version "
      ]
    },
    {
      "cell_type": "code",
      "metadata": {
        "id": "e8g7lmvwfrjW",
        "colab_type": "code",
        "outputId": "5ddf8f02-7d7e-4c1a-89e0-592f72affd89",
        "colab": {
          "base_uri": "https://localhost:8080/",
          "height": 129
        }
      },
      "source": [
        "\n"
      ],
      "execution_count": 0,
      "outputs": [
        {
          "output_type": "error",
          "ename": "SyntaxError",
          "evalue": "ignored",
          "traceback": [
            "\u001b[0;36m  File \u001b[0;32m\"<ipython-input-7-334466156a4d>\"\u001b[0;36m, line \u001b[0;32m5\u001b[0m\n\u001b[0;31m    f_upper = pow(6,(3/2))*math.pi*M_tot),-1)\u001b[0m\n\u001b[0m                                        ^\u001b[0m\n\u001b[0;31mSyntaxError\u001b[0m\u001b[0;31m:\u001b[0m invalid syntax\n"
          ]
        }
      ]
    },
    {
      "cell_type": "code",
      "metadata": {
        "id": "xYcqWBgyQTUe",
        "colab_type": "code",
        "outputId": "2b628089-966b-40dd-ee29-9e280994b82c",
        "colab": {
          "base_uri": "https://localhost:8080/",
          "height": 34
        }
      },
      "source": [
        "from sympy import symbols, diff, Symbol\n",
        "import scipy.integrate as integrate\n",
        "import numpy as np\n",
        "import math\n",
        "          \n",
        "#general comments\n",
        "\n",
        "#M_1 = mass of first object (black hole)           \n",
        "#M_2 = mass of second object (balck hole)\n",
        "#M = M_1 + M_2 (total mass)\n",
        "\n",
        "# f = frequency      \n",
        "# t_c= time of collision    \n",
        "#phi_c = phase \n",
        "\n",
        "\n",
        "c=3*10**8\n",
        "G=6.67430*10**(-11)   \n",
        "SNR=10\n",
        "fs=20 #lower bond\n",
        "M=10**(31)\n",
        "#fu=((6**(3/2)*np.pi*M))**(-1)*(c**3)*(1/G)\n",
        "#Virgo\n",
        "fu_virgo=500 #higher bond\n",
        "f=Symbol('f')\n",
        "S0_virgo=3.24*10**(-46)\n",
        "def S_virgo(f):\n",
        "  return S0_virgo*((6.23*f)**(-5)+2*f**(-1)+1+f**(2))\n",
        "\n",
        "#ture for f>fs\n",
        "A =np.sqrt(SNR/(4* (integrate.quad(lambda f: (f**(-7/6)/(S0_virgo*((4.49*f)**-56 + (0.16*f)**-4.52 + 0.52 + 0.32*f*f))),fs,fu_virgo)[0])))\n",
        "print (A)\n",
        "\n",
        "#for the initial ligo noise curve\n",
        "def S_ligo(f):\n",
        "  return S0_ligo*((4.49*f)**(-56)+(0.16*f)**-4.52 + 0.52 + 0.32*f*f)\n",
        "fu_ligo = 150 \n",
        "fs_ligo = 40\n",
        "S0_ligo = 9*10**(-46)\n",
        "\n"
      ],
      "execution_count": 3,
      "outputs": [
        {
          "output_type": "stream",
          "text": [
            "6.092935262837662e-22\n"
          ],
          "name": "stdout"
        }
      ]
    },
    {
      "cell_type": "markdown",
      "metadata": {
        "id": "yxEyLe2mQ1fy",
        "colab_type": "text"
      },
      "source": [
        "![image.png](data:image/png;base64,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)"
      ]
    },
    {
      "cell_type": "code",
      "metadata": {
        "id": "3zzlPn0tQ4uo",
        "colab_type": "code",
        "colab": {}
      },
      "source": [
        "\n",
        "\n"
      ],
      "execution_count": 0,
      "outputs": []
    },
    {
      "cell_type": "code",
      "metadata": {
        "colab_type": "code",
        "id": "ZJkm2fPrJjjS",
        "colab": {}
      },
      "source": [
        "pi =math.pi \n",
        "\n",
        "m2 ,m1,T_C,phy_C= symbols ('m2,m1,T_C,phy_c')\n",
        "\n",
        "M = m2 +m1\n",
        "\n",
        "\n",
        "def Psi(f):\n",
        " return 2*f*T_c - phy_C - (pi/4 ) + (3/(128*(m1.m2/m**(2))*((pi*M*f)**(3/5))))\n",
        "\n",
        "\n",
        " \n",
        "def h(f,psi): \n",
        " return A*f**(-7/6)*exp(1j*psi)\n",
        "\n",
        "\n",
        " "
      ],
      "execution_count": 0,
      "outputs": []
    },
    {
      "cell_type": "code",
      "metadata": {
        "id": "ffu81hBxRLpg",
        "colab_type": "code",
        "colab": {}
      },
      "source": [
        "Parametre = m1,m2,T_C,phy_C\n",
        "#the partial derivative of h(f)\n",
        "def h_partial(f, params, x, dx):   \n",
        "  dparams = params.copy()\n",
        "  dparams[x] += dx\n",
        "  dy = h(f, dparams, PN)-h(f, params, PN)\n",
        "  return dy/dx\n",
        "\n",
        "#generating the Fischer matrix\n",
        "def generate_matrix(params, dx):\n",
        "  \n",
        "# create an n*n matrix where n is the number of observables\n",
        "  n = len(params)\n",
        "  matrix = np.empty([n,n]) \n",
        "  \n",
        "# matrix\n",
        "  for i in range (n):\n",
        "    for j in range (n):\n",
        "      \n",
        "      #start integration\n",
        "      accumulator = 0\n",
        "      for k in range(int(fs/dx), int(f0/dx)):\n",
        "        part_i = h_partial(k*dx, params,i, 0.001)\n",
        "        part_j = np.conj(h_partial(k*dx, params,j, 0.001))\n",
        "        accumulator += np.real(part_i * part_j / S(k*dx))\n",
        "      \n",
        "      #once integration is done add it to the matrix\n",
        "      matrix[i][j] = accumulator*4\n",
        "  \n",
        "  return matrix\n",
        "\n",
        "\n",
        "#Extract the diagonal elements from the inverted Fischer matrix\n",
        "\n",
        "def extract_from_matrix(matrix):\n",
        "  #invert matrix\n",
        "  y = np.linalg.inv(matrix) \n",
        "  z = []\n",
        "  \n",
        "  #square root of diagonal elements\n",
        "  for i in range (len(y)):\n",
        "    z.append(m.sqrt(y[i][i]))\n",
        "   \n",
        "  return z\n",
        "derivative_hf_i = diff(h,Paramer[i]) \n",
        "def tau(h,f,p1,p2):\n",
        "  return 4* (integrate.quad(lambda f:diff( h(f,psi),Parametre[p1])*diff(h(f,psi),Parametre[p2])/S_virgo(f)),fs,fu_virgo)[0]))\n",
        "Fisher_M = (Parametre, list (reversed(Parametre)))\n"
      ],
      "execution_count": 0,
      "outputs": []
    },
    {
      "cell_type": "code",
      "metadata": {
        "id": "QlnotQkRZCkx",
        "colab_type": "code",
        "colab": {}
      },
      "source": [
        "\n",
        "\n"
      ],
      "execution_count": 0,
      "outputs": []
    }
  ]
}