{
  "nbformat": 4,
  "nbformat_minor": 0,
  "metadata": {
    "colab": {
      "name": "Untitled0.ipynb",
      "provenance": [],
      "authorship_tag": "ABX9TyPdTEgL3z+YVDTjH+sjbHk7",
      "include_colab_link": true
    },
    "kernelspec": {
      "name": "python3",
      "display_name": "Python 3"
    }
  },
  "cells": [
    {
      "cell_type": "markdown",
      "metadata": {
        "id": "view-in-github",
        "colab_type": "text"
      },
      "source": [
        "<a href=\"https://colab.research.google.com/github/wladimirLefebure/bigdata-wl/blob/master/Untitled0.ipynb\" target=\"_parent\"><img src=\"https://colab.research.google.com/assets/colab-badge.svg\" alt=\"Open In Colab\"/></a>"
      ]
    },
    {
      "cell_type": "code",
      "metadata": {
        "id": "AQHtR38eezk2",
        "colab_type": "code",
        "colab": {}
      },
      "source": [
        "import numpy as np\n",
        "import requests\n",
        "import matplotlib.pyplot as plt\n",
        "import pandas as p\n",
        "from IPython.display import display, HTML\n",
        "\n",
        "%matplotlib inline\n",
        "\n",
        "planeturl = \"https://exo.mast.stsci.edu/api/v0.1/exoplanets/\"\n",
        "dvurl = \"https://exo.mast.stsci.edu/api/v0.1/dvdata/tess/\"\n",
        "header={}\n",
        "\n",
        "\n"
      ],
      "execution_count": 0,
      "outputs": []
    },
    {
      "cell_type": "code",
      "metadata": {
        "id": "M24t4Xp4ie7T",
        "colab_type": "code",
        "colab": {
          "base_uri": "https://localhost:8080/",
          "height": 34
        },
        "outputId": "8d4f36ea-2447-4a30-c1e1-0a5dffdd3252"
      },
      "source": [
        "planet_name = \"HD 39091\"\n",
        "\n",
        "url = planeturl + \"/identifiers/\"\n",
        "\n",
        "myparams = {\"name\":planet_name}\n",
        "\n",
        "r = requests.get(url = url, params = myparams, headers = header)\n",
        "print(r.headers.get('content-type'))"
      ],
      "execution_count": 3,
      "outputs": [
        {
          "output_type": "stream",
          "text": [
            "application/json; charset=UTF-8\n"
          ],
          "name": "stdout"
        }
      ]
    },
    {
      "cell_type": "code",
      "metadata": {
        "id": "mrzupH8PjMBr",
        "colab_type": "code",
        "colab": {
          "base_uri": "https://localhost:8080/",
          "height": 782
        },
        "outputId": "6f66340d-97af-4841-ff1e-f2eeee453c1a"
      },
      "source": [
        "planet_names = r.json()\n",
        "ticid = planet_names['tessID']\n",
        "tce = planet_names['tessTCE']\n",
        "planet_names"
      ],
      "execution_count": 4,
      "outputs": [
        {
          "output_type": "execute_result",
          "data": {
            "text/plain": [
              "{'canonicalName': 'HD 39091 b',\n",
              " 'dec': -80.47167500019073,\n",
              " 'keplerID': None,\n",
              " 'keplerTCE': None,\n",
              " 'planetNames': ['pi. Men b',\n",
              "  'PM 05411-8030 b',\n",
              "  'HIC 26394 b',\n",
              "  'SAO 258421 b',\n",
              "  '2MASS J05370988-8028090 b',\n",
              "  'SKY# 9102 b',\n",
              "  'HIP 26394 b',\n",
              "  'Ci 20 352 b',\n",
              "  'TYC 9386-2614-1 b',\n",
              "  'LFT 429 b',\n",
              "  'HD 39091 b',\n",
              "  'GCRV 3553 b',\n",
              "  'uvby98 100039091 b',\n",
              "  'CD-80 195 b',\n",
              "  'HR 2022 b',\n",
              "  'GC 7161 b',\n",
              "  'Gaia DR1 4623036826718164480 b',\n",
              "  'pi Men b',\n",
              "  'UBV 5958 b',\n",
              "  'CPD-80 161 b',\n",
              "  'SPOCS 271 b',\n",
              "  'PLX 1340 b',\n",
              "  'IRAS 05411-8029 b',\n",
              "  'NLTT 15535 b',\n",
              "  'WEB 5206 b',\n",
              "  'PPM 376576 b',\n",
              "  'LTT 2359 b',\n",
              "  'AKARI-IRC-V1 J0537107-802802 b',\n",
              "  'UBV M 11543 b',\n",
              "  'TD1 5445 b',\n",
              "  'CPC 22 699 b',\n",
              "  'LHS 208 b',\n",
              "  'LPM 219 b',\n",
              "  'GEN# +1.00039091 b',\n",
              "  'N30 1227 b',\n",
              "  'PLX 1340.00 b',\n",
              "  'GJ 9189 b'],\n",
              " 'ra': 84.28662499984105,\n",
              " 'starName': 'HD 39091',\n",
              " 'tessID': 261136679,\n",
              " 'tessTCE': None}"
            ]
          },
          "metadata": {
            "tags": []
          },
          "execution_count": 4
        }
      ]
    },
    {
      "cell_type": "code",
      "metadata": {
        "id": "J_Q54Ek6kbRl",
        "colab_type": "code",
        "colab": {
          "base_uri": "https://localhost:8080/",
          "height": 316
        },
        "outputId": "3d97ede5-5197-4669-d75d-2641ba9ac521"
      },
      "source": [
        "url = dvurl + str(ticid) + '/tces/'\n",
        "myparams = {\"tce\" : tce}\n",
        "\n",
        "r = requests.get(url = url, params = myparams, headers = header)\n",
        "sectorInfo = r.json()\n",
        "\n",
        "sectors = [x[:11] for x in sectorInfo[\"TCE\"] if tce in x]\n",
        "sectors"
      ],
      "execution_count": 5,
      "outputs": [
        {
          "output_type": "error",
          "ename": "TypeError",
          "evalue": "ignored",
          "traceback": [
            "\u001b[0;31m---------------------------------------------------------------------------\u001b[0m",
            "\u001b[0;31mTypeError\u001b[0m                                 Traceback (most recent call last)",
            "\u001b[0;32m<ipython-input-5-c783d69410f1>\u001b[0m in \u001b[0;36m<module>\u001b[0;34m()\u001b[0m\n\u001b[1;32m      5\u001b[0m \u001b[0msectorInfo\u001b[0m \u001b[0;34m=\u001b[0m \u001b[0mr\u001b[0m\u001b[0;34m.\u001b[0m\u001b[0mjson\u001b[0m\u001b[0;34m(\u001b[0m\u001b[0;34m)\u001b[0m\u001b[0;34m\u001b[0m\u001b[0;34m\u001b[0m\u001b[0m\n\u001b[1;32m      6\u001b[0m \u001b[0;34m\u001b[0m\u001b[0m\n\u001b[0;32m----> 7\u001b[0;31m \u001b[0msectors\u001b[0m \u001b[0;34m=\u001b[0m \u001b[0;34m[\u001b[0m\u001b[0mx\u001b[0m\u001b[0;34m[\u001b[0m\u001b[0;34m:\u001b[0m\u001b[0;36m11\u001b[0m\u001b[0;34m]\u001b[0m \u001b[0;32mfor\u001b[0m \u001b[0mx\u001b[0m \u001b[0;32min\u001b[0m \u001b[0msectorInfo\u001b[0m\u001b[0;34m[\u001b[0m\u001b[0;34m\"TCE\"\u001b[0m\u001b[0;34m]\u001b[0m \u001b[0;32mif\u001b[0m \u001b[0mtce\u001b[0m \u001b[0;32min\u001b[0m \u001b[0mx\u001b[0m\u001b[0;34m]\u001b[0m\u001b[0;34m\u001b[0m\u001b[0;34m\u001b[0m\u001b[0m\n\u001b[0m\u001b[1;32m      8\u001b[0m \u001b[0msectors\u001b[0m\u001b[0;34m\u001b[0m\u001b[0;34m\u001b[0m\u001b[0m\n",
            "\u001b[0;32m<ipython-input-5-c783d69410f1>\u001b[0m in \u001b[0;36m<listcomp>\u001b[0;34m(.0)\u001b[0m\n\u001b[1;32m      5\u001b[0m \u001b[0msectorInfo\u001b[0m \u001b[0;34m=\u001b[0m \u001b[0mr\u001b[0m\u001b[0;34m.\u001b[0m\u001b[0mjson\u001b[0m\u001b[0;34m(\u001b[0m\u001b[0;34m)\u001b[0m\u001b[0;34m\u001b[0m\u001b[0;34m\u001b[0m\u001b[0m\n\u001b[1;32m      6\u001b[0m \u001b[0;34m\u001b[0m\u001b[0m\n\u001b[0;32m----> 7\u001b[0;31m \u001b[0msectors\u001b[0m \u001b[0;34m=\u001b[0m \u001b[0;34m[\u001b[0m\u001b[0mx\u001b[0m\u001b[0;34m[\u001b[0m\u001b[0;34m:\u001b[0m\u001b[0;36m11\u001b[0m\u001b[0;34m]\u001b[0m \u001b[0;32mfor\u001b[0m \u001b[0mx\u001b[0m \u001b[0;32min\u001b[0m \u001b[0msectorInfo\u001b[0m\u001b[0;34m[\u001b[0m\u001b[0;34m\"TCE\"\u001b[0m\u001b[0;34m]\u001b[0m \u001b[0;32mif\u001b[0m \u001b[0mtce\u001b[0m \u001b[0;32min\u001b[0m \u001b[0mx\u001b[0m\u001b[0;34m]\u001b[0m\u001b[0;34m\u001b[0m\u001b[0;34m\u001b[0m\u001b[0m\n\u001b[0m\u001b[1;32m      8\u001b[0m \u001b[0msectors\u001b[0m\u001b[0;34m\u001b[0m\u001b[0;34m\u001b[0m\u001b[0m\n",
            "\u001b[0;31mTypeError\u001b[0m: 'in <string>' requires string as left operand, not NoneType"
          ]
        }
      ]
    }
  ]
}